{
 "cells": [
  {
   "cell_type": "code",
   "execution_count": 1,
   "id": "63ce236f-73eb-41d4-a01d-ab5767398225",
   "metadata": {},
   "outputs": [
    {
     "name": "stdout",
     "output_type": "stream",
     "text": [
      "Stock_data_part3:\n",
      "   PERMNO        date  SHRCD TICKER  PERMCO     CUSIP  HSICIG      PRC  \\\n",
      "0   10001  2010-01-29   11.0   EGAS    7953  36720410     NaN  10.0600   \n",
      "1   10001  2010-02-26   11.0   EGAS    7953  36720410     NaN  10.0084   \n",
      "2   10001  2010-03-31   11.0   EGAS    7953  36720410     NaN  10.1700   \n",
      "3   10001  2010-04-30   11.0   EGAS    7953  36720410     NaN  11.3900   \n",
      "4   10001  2010-05-28   11.0   EGAS    7953  36720410     NaN  11.4000   \n",
      "\n",
      "      VOL        RET  SHROUT  SPREAD  \n",
      "0  3104.0  -0.018932  4361.0     NaN  \n",
      "1  1510.0  -0.000656  4361.0     NaN  \n",
      "2  2283.0   0.020643  4361.0     NaN  \n",
      "3  3350.0   0.124385  6070.0     NaN  \n",
      "4  3451.0   0.004829  6071.0     NaN  \n",
      "\n",
      "Fama-French Factors:\n",
      "  Unnamed: 0    Mkt-RF       SMB       HML        RF\n",
      "0     192607      2.96     -2.56     -2.43      0.22\n",
      "1     192608      2.64     -1.17      3.82      0.25\n",
      "2     192609      0.36     -1.40      0.13      0.23\n",
      "3     192610     -3.24     -0.09      0.70      0.32\n",
      "4     192611      2.53     -0.10     -0.51      0.31\n"
     ]
    }
   ],
   "source": [
    "import pandas as pd\n",
    "\n",
    "# Load the Stock_data_part3 dataset\n",
    "stock_data_part3 = pd.read_csv('/Users/rohanpadaya/Desktop/pankit_assign/Stock_data_part3.csv')\n",
    "\n",
    "# Load the Fama-French Factors dataset\n",
    "fama_french_data = pd.read_csv('/Users/rohanpadaya/Downloads/F-F_Research_Data_Factors.CSV', skiprows=3)\n",
    "\n",
    "# Load the Industry data\n",
    "#industry_data = pd.read_csv('/Users/rohanpadaya/Downloads/Industry.csv')\n",
    "\n",
    "# Display the first few rows of each dataset to ensure they are loaded correctly\n",
    "print(\"Stock_data_part3:\")\n",
    "print(stock_data_part3.head())\n",
    "\n",
    "print(\"\\nFama-French Factors:\")\n",
    "print(fama_french_data.head())\n",
    "\n",
    "#print(\"\\nIndustry Data:\")\n",
    "#print(industry_data.head())"
   ]
  },
  {
   "cell_type": "code",
   "execution_count": 2,
   "id": "b030b9c7-5a8b-400c-ba55-69e1c766b412",
   "metadata": {},
   "outputs": [],
   "source": [
    "# Step 1: Load the Data\n",
    "file_path = '/Users/rohanpadaya/Desktop/pankit_assign/Stock_data_part2.csv'  \n",
    "stock_data_2= pd.read_csv(file_path, low_memory=False)\n"
   ]
  },
  {
   "cell_type": "code",
   "execution_count": 3,
   "id": "f095682d-45b6-4949-9868-9abe45c4b8d4",
   "metadata": {},
   "outputs": [
    {
     "name": "stdout",
     "output_type": "stream",
     "text": [
      "date             0\n",
      "CAPEI            0\n",
      "bm               0\n",
      "evm              0\n",
      "pe_exi           0\n",
      "dpr              0\n",
      "npm              0\n",
      "roa              0\n",
      "roe              0\n",
      "roce             0\n",
      "ptb              0\n",
      "divyield    363389\n",
      "TICKER        9971\n",
      "dtype: int64\n"
     ]
    },
    {
     "name": "stderr",
     "output_type": "stream",
     "text": [
      "/var/folders/h3/rgch6z5s2vl66pj31fc_j3w00000gn/T/ipykernel_47128/2870441173.py:8: UserWarning: Parsing dates in %d/%m/%Y format when dayfirst=False (the default) was specified. Pass `dayfirst=True` or specify a format to silence this warning.\n",
      "  stock_data_2_imputed['public_date'] = pd.to_datetime(stock_data_2_imputed['public_date'])\n"
     ]
    }
   ],
   "source": [
    "# Impute missing values with the median for each column\n",
    "stock_data_2_imputed = stock_data_2.copy()\n",
    "\n",
    "for column in stock_data_2_imputed.columns:\n",
    "    if stock_data_2_imputed[column].dtype in ['float64', 'int64']:\n",
    "        stock_data_2_imputed[column].fillna(stock_data_2_imputed[column].median(), inplace=True)\n",
    "\n",
    "stock_data_2_imputed['public_date'] = pd.to_datetime(stock_data_2_imputed['public_date'])\n",
    "stock_data_2_imputed.rename(columns={'public_date': 'date'}, inplace=True)\n",
    "# Verify that there are no more missing values\n",
    "print(stock_data_2_imputed.isnull().sum())"
   ]
  },
  {
   "cell_type": "code",
   "execution_count": 4,
   "id": "01059a45-721b-4e95-9e98-1174864b8bc8",
   "metadata": {},
   "outputs": [
    {
     "name": "stdout",
     "output_type": "stream",
     "text": [
      "\n",
      "stock_data_part3 Info:\n",
      "<class 'pandas.core.frame.DataFrame'>\n",
      "RangeIndex: 1176728 entries, 0 to 1176727\n",
      "Data columns (total 12 columns):\n",
      " #   Column  Non-Null Count    Dtype  \n",
      "---  ------  --------------    -----  \n",
      " 0   PERMNO  1176728 non-null  int64  \n",
      " 1   date    1176728 non-null  object \n",
      " 2   SHRCD   1168423 non-null  float64\n",
      " 3   TICKER  1159189 non-null  object \n",
      " 4   PERMCO  1176728 non-null  int64  \n",
      " 5   CUSIP   1176728 non-null  object \n",
      " 6   HSICIG  30157 non-null    float64\n",
      " 7   PRC     1152922 non-null  float64\n",
      " 8   VOL     1158394 non-null  float64\n",
      " 9   RET     1162150 non-null  object \n",
      " 10  SHROUT  1167686 non-null  float64\n",
      " 11  SPREAD  30495 non-null    float64\n",
      "dtypes: float64(6), int64(2), object(4)\n",
      "memory usage: 107.7+ MB\n",
      "None\n",
      "\n",
      "Fama-French Info:\n",
      "<class 'pandas.core.frame.DataFrame'>\n",
      "RangeIndex: 1277 entries, 0 to 1276\n",
      "Data columns (total 5 columns):\n",
      " #   Column      Non-Null Count  Dtype \n",
      "---  ------      --------------  ----- \n",
      " 0   Unnamed: 0  1276 non-null   object\n",
      " 1   Mkt-RF      1275 non-null   object\n",
      " 2   SMB         1275 non-null   object\n",
      " 3   HML         1275 non-null   object\n",
      " 4   RF          1275 non-null   object\n",
      "dtypes: object(5)\n",
      "memory usage: 50.0+ KB\n",
      "None\n",
      "\n",
      "stock_data_part2 Info:\n",
      "<class 'pandas.core.frame.DataFrame'>\n",
      "RangeIndex: 577832 entries, 0 to 577831\n",
      "Data columns (total 13 columns):\n",
      " #   Column    Non-Null Count   Dtype         \n",
      "---  ------    --------------   -----         \n",
      " 0   date      577832 non-null  datetime64[ns]\n",
      " 1   CAPEI     577832 non-null  float64       \n",
      " 2   bm        577832 non-null  float64       \n",
      " 3   evm       577832 non-null  float64       \n",
      " 4   pe_exi    577832 non-null  float64       \n",
      " 5   dpr       577832 non-null  float64       \n",
      " 6   npm       577832 non-null  float64       \n",
      " 7   roa       577832 non-null  float64       \n",
      " 8   roe       577832 non-null  float64       \n",
      " 9   roce      577832 non-null  float64       \n",
      " 10  ptb       577832 non-null  float64       \n",
      " 11  divyield  214443 non-null  object        \n",
      " 12  TICKER    567861 non-null  object        \n",
      "dtypes: datetime64[ns](1), float64(10), object(2)\n",
      "memory usage: 57.3+ MB\n",
      "None\n"
     ]
    }
   ],
   "source": [
    "print(\"\\nstock_data_part3 Info:\")\n",
    "print(stock_data_part3.info())\n",
    "\n",
    "print(\"\\nFama-French Info:\")\n",
    "print(fama_french_data.info())\n",
    "\n",
    "print(\"\\nstock_data_part2 Info:\")\n",
    "print(stock_data_2_imputed.info())"
   ]
  },
  {
   "cell_type": "markdown",
   "id": "50be4c84-584e-4f20-9724-46e9bc88fedc",
   "metadata": {},
   "source": [
    "## Cleaning stock data part 3"
   ]
  },
  {
   "cell_type": "code",
   "execution_count": 5,
   "id": "c88f345d-0ea3-412d-a51a-2e89880f752a",
   "metadata": {},
   "outputs": [
    {
     "name": "stdout",
     "output_type": "stream",
     "text": [
      "<class 'pandas.core.frame.DataFrame'>\n",
      "Index: 1143983 entries, 0 to 1176727\n",
      "Data columns (total 12 columns):\n",
      " #   Column  Non-Null Count    Dtype         \n",
      "---  ------  --------------    -----         \n",
      " 0   PERMNO  1143983 non-null  int64         \n",
      " 1   date    1143983 non-null  datetime64[ns]\n",
      " 2   SHRCD   1143983 non-null  float64       \n",
      " 3   TICKER  1143978 non-null  object        \n",
      " 4   PERMCO  1143983 non-null  int64         \n",
      " 5   CUSIP   1143983 non-null  object        \n",
      " 6   HSICIG  29087 non-null    float64       \n",
      " 7   PRC     1143983 non-null  float64       \n",
      " 8   VOL     1143983 non-null  float64       \n",
      " 9   RET     1143983 non-null  float64       \n",
      " 10  SHROUT  1143983 non-null  float64       \n",
      " 11  SPREAD  29496 non-null    float64       \n",
      "dtypes: datetime64[ns](1), float64(7), int64(2), object(2)\n",
      "memory usage: 113.5+ MB\n",
      "None\n"
     ]
    }
   ],
   "source": [
    "import pandas as pd\n",
    "\n",
    "# Load the data (assuming you have already loaded the data into DataFrames)\n",
    "# Convert 'date' column to datetime format\n",
    "stock_data_part3['date'] = pd.to_datetime(stock_data_part3['date'])\n",
    "\n",
    "# Convert 'RET' to numeric, forcing errors to NaN (so we can handle them)\n",
    "stock_data_part3['RET'] = pd.to_numeric(stock_data_part3['RET'], errors='coerce')\n",
    "\n",
    "# Handle missing values (you can choose to fill, drop or flag them depending on analysis)\n",
    "stock_data_part3_cleaned = stock_data_part3.dropna(subset=['RET', 'PRC', 'VOL'])\n",
    "\n",
    "# Print the cleaned DataFrame information\n",
    "print(stock_data_part3_cleaned.info())"
   ]
  },
  {
   "cell_type": "code",
   "execution_count": 6,
   "id": "4097b794-ae17-4264-8523-35ef3436acf7",
   "metadata": {},
   "outputs": [
    {
     "name": "stdout",
     "output_type": "stream",
     "text": [
      "<class 'pandas.core.frame.DataFrame'>\n",
      "Index: 1177 entries, 0 to 1176\n",
      "Data columns (total 5 columns):\n",
      " #   Column  Non-Null Count  Dtype         \n",
      "---  ------  --------------  -----         \n",
      " 0   Mkt-RF  1177 non-null   float64       \n",
      " 1   SMB     1177 non-null   float64       \n",
      " 2   HML     1177 non-null   float64       \n",
      " 3   RF      1177 non-null   float64       \n",
      " 4   date    1177 non-null   datetime64[ns]\n",
      "dtypes: datetime64[ns](1), float64(4)\n",
      "memory usage: 55.2 KB\n",
      "None\n"
     ]
    },
    {
     "name": "stderr",
     "output_type": "stream",
     "text": [
      "/var/folders/h3/rgch6z5s2vl66pj31fc_j3w00000gn/T/ipykernel_47128/668552558.py:12: SettingWithCopyWarning: \n",
      "A value is trying to be set on a copy of a slice from a DataFrame.\n",
      "Try using .loc[row_indexer,col_indexer] = value instead\n",
      "\n",
      "See the caveats in the documentation: https://pandas.pydata.org/pandas-docs/stable/user_guide/indexing.html#returning-a-view-versus-a-copy\n",
      "  fama_french_data_cleaned['date'] = pd.to_datetime(fama_french_data_cleaned['Unnamed: 0'], format='%Y%m')\n",
      "/var/folders/h3/rgch6z5s2vl66pj31fc_j3w00000gn/T/ipykernel_47128/668552558.py:15: SettingWithCopyWarning: \n",
      "A value is trying to be set on a copy of a slice from a DataFrame.\n",
      "Try using .loc[row_indexer,col_indexer] = value instead\n",
      "\n",
      "See the caveats in the documentation: https://pandas.pydata.org/pandas-docs/stable/user_guide/indexing.html#returning-a-view-versus-a-copy\n",
      "  fama_french_data_cleaned['Mkt-RF'] = pd.to_numeric(fama_french_data_cleaned['Mkt-RF'], errors='coerce')\n",
      "/var/folders/h3/rgch6z5s2vl66pj31fc_j3w00000gn/T/ipykernel_47128/668552558.py:16: SettingWithCopyWarning: \n",
      "A value is trying to be set on a copy of a slice from a DataFrame.\n",
      "Try using .loc[row_indexer,col_indexer] = value instead\n",
      "\n",
      "See the caveats in the documentation: https://pandas.pydata.org/pandas-docs/stable/user_guide/indexing.html#returning-a-view-versus-a-copy\n",
      "  fama_french_data_cleaned['SMB'] = pd.to_numeric(fama_french_data_cleaned['SMB'], errors='coerce')\n",
      "/var/folders/h3/rgch6z5s2vl66pj31fc_j3w00000gn/T/ipykernel_47128/668552558.py:17: SettingWithCopyWarning: \n",
      "A value is trying to be set on a copy of a slice from a DataFrame.\n",
      "Try using .loc[row_indexer,col_indexer] = value instead\n",
      "\n",
      "See the caveats in the documentation: https://pandas.pydata.org/pandas-docs/stable/user_guide/indexing.html#returning-a-view-versus-a-copy\n",
      "  fama_french_data_cleaned['HML'] = pd.to_numeric(fama_french_data_cleaned['HML'], errors='coerce')\n",
      "/var/folders/h3/rgch6z5s2vl66pj31fc_j3w00000gn/T/ipykernel_47128/668552558.py:18: SettingWithCopyWarning: \n",
      "A value is trying to be set on a copy of a slice from a DataFrame.\n",
      "Try using .loc[row_indexer,col_indexer] = value instead\n",
      "\n",
      "See the caveats in the documentation: https://pandas.pydata.org/pandas-docs/stable/user_guide/indexing.html#returning-a-view-versus-a-copy\n",
      "  fama_french_data_cleaned['RF'] = pd.to_numeric(fama_french_data_cleaned['RF'], errors='coerce')\n",
      "/var/folders/h3/rgch6z5s2vl66pj31fc_j3w00000gn/T/ipykernel_47128/668552558.py:21: SettingWithCopyWarning: \n",
      "A value is trying to be set on a copy of a slice from a DataFrame\n",
      "\n",
      "See the caveats in the documentation: https://pandas.pydata.org/pandas-docs/stable/user_guide/indexing.html#returning-a-view-versus-a-copy\n",
      "  fama_french_data_cleaned.drop(columns=['Unnamed: 0'], inplace=True)\n"
     ]
    }
   ],
   "source": [
    "import pandas as pd\n",
    "\n",
    "# Drop rows where 'Unnamed: 0' has NaN values\n",
    "fama_french_data = fama_french_data.dropna(subset=['Unnamed: 0'])\n",
    "\n",
    "# Remove any rows where the 'Unnamed: 0' column does not match the expected date pattern\n",
    "# Assuming valid date strings are of the format '%Y%m', we'll filter those out\n",
    "\n",
    "fama_french_data_cleaned = fama_french_data[fama_french_data['Unnamed: 0'].str.match(r'^\\d{6}$')]\n",
    "\n",
    "# Convert the remaining 'Unnamed: 0' column to datetime format\n",
    "fama_french_data_cleaned['date'] = pd.to_datetime(fama_french_data_cleaned['Unnamed: 0'], format='%Y%m')\n",
    "\n",
    "# Convert factor columns to numeric\n",
    "fama_french_data_cleaned['Mkt-RF'] = pd.to_numeric(fama_french_data_cleaned['Mkt-RF'], errors='coerce')\n",
    "fama_french_data_cleaned['SMB'] = pd.to_numeric(fama_french_data_cleaned['SMB'], errors='coerce')\n",
    "fama_french_data_cleaned['HML'] = pd.to_numeric(fama_french_data_cleaned['HML'], errors='coerce')\n",
    "fama_french_data_cleaned['RF'] = pd.to_numeric(fama_french_data_cleaned['RF'], errors='coerce')\n",
    "\n",
    "# Drop the original 'Unnamed: 0' column since we now have 'date'\n",
    "fama_french_data_cleaned.drop(columns=['Unnamed: 0'], inplace=True)\n",
    "\n",
    "# Print the cleaned DataFrame information\n",
    "print(fama_french_data_cleaned.info())"
   ]
  },
  {
   "cell_type": "code",
   "execution_count": 7,
   "id": "dabfc272-f3d8-4100-b28f-5c20243ce079",
   "metadata": {},
   "outputs": [
    {
     "name": "stdout",
     "output_type": "stream",
     "text": [
      "<class 'pandas.core.frame.DataFrame'>\n",
      "RangeIndex: 393634 entries, 0 to 393633\n",
      "Data columns (total 23 columns):\n",
      " #   Column    Non-Null Count   Dtype         \n",
      "---  ------    --------------   -----         \n",
      " 0   PERMNO    393634 non-null  int64         \n",
      " 1   date      393634 non-null  datetime64[ns]\n",
      " 2   SHRCD     393634 non-null  float64       \n",
      " 3   TICKER    393578 non-null  object        \n",
      " 4   PERMCO    393634 non-null  int64         \n",
      " 5   CUSIP     393634 non-null  object        \n",
      " 6   HSICIG    10085 non-null   float64       \n",
      " 7   PRC       393634 non-null  float64       \n",
      " 8   VOL       393634 non-null  float64       \n",
      " 9   RET       393634 non-null  float64       \n",
      " 10  SHROUT    393634 non-null  float64       \n",
      " 11  SPREAD    5012 non-null    float64       \n",
      " 12  CAPEI     393634 non-null  float64       \n",
      " 13  bm        393634 non-null  float64       \n",
      " 14  evm       393634 non-null  float64       \n",
      " 15  pe_exi    393634 non-null  float64       \n",
      " 16  dpr       393634 non-null  float64       \n",
      " 17  npm       393634 non-null  float64       \n",
      " 18  roa       393634 non-null  float64       \n",
      " 19  roe       393634 non-null  float64       \n",
      " 20  roce      393634 non-null  float64       \n",
      " 21  ptb       393634 non-null  float64       \n",
      " 22  divyield  151077 non-null  object        \n",
      "dtypes: datetime64[ns](1), float64(17), int64(2), object(3)\n",
      "memory usage: 69.1+ MB\n",
      "None\n"
     ]
    }
   ],
   "source": [
    "# Merging stock_data_part3_cleaned and stock_data_2_imputed on TICKER and date\n",
    "final_merged_data = pd.merge(stock_data_part3_cleaned, stock_data_2_imputed, on=['TICKER', 'date'], how='inner')\n",
    "\n",
    "# Merging the resulting dataset with fama_french_data_cleaned on date\n",
    "#final_merged_data = pd.merge(merged_data, fama_french_data_cleaned, on='date', how='inner')\n",
    "\n",
    "# Check the structure of the final merged dataset\n",
    "print(final_merged_data.info())"
   ]
  },
  {
   "cell_type": "code",
   "execution_count": 8,
   "id": "d3c06967-69fb-47aa-9fb5-4a8159479e25",
   "metadata": {},
   "outputs": [
    {
     "name": "stdout",
     "output_type": "stream",
     "text": [
      "<class 'pandas.core.frame.DataFrame'>\n",
      "RangeIndex: 393634 entries, 0 to 393633\n",
      "Data columns (total 20 columns):\n",
      " #   Column    Non-Null Count   Dtype  \n",
      "---  ------    --------------   -----  \n",
      " 0   PERMNO    393634 non-null  float64\n",
      " 1   SHRCD     393634 non-null  float64\n",
      " 2   PERMCO    393634 non-null  float64\n",
      " 3   HSICIG    393634 non-null  float64\n",
      " 4   PRC       393634 non-null  float64\n",
      " 5   VOL       393634 non-null  float64\n",
      " 6   RET       393634 non-null  float64\n",
      " 7   SHROUT    393634 non-null  float64\n",
      " 8   SPREAD    393634 non-null  float64\n",
      " 9   CAPEI     393634 non-null  float64\n",
      " 10  bm        393634 non-null  float64\n",
      " 11  evm       393634 non-null  float64\n",
      " 12  pe_exi    393634 non-null  float64\n",
      " 13  dpr       393634 non-null  float64\n",
      " 14  npm       393634 non-null  float64\n",
      " 15  roa       393634 non-null  float64\n",
      " 16  roe       393634 non-null  float64\n",
      " 17  roce      393634 non-null  float64\n",
      " 18  ptb       393634 non-null  float64\n",
      " 19  divyield  0 non-null       float64\n",
      "dtypes: float64(20)\n",
      "memory usage: 60.1 MB\n",
      "None\n"
     ]
    },
    {
     "name": "stderr",
     "output_type": "stream",
     "text": [
      "/opt/anaconda3/lib/python3.11/site-packages/sklearn/utils/extmath.py:1047: RuntimeWarning: invalid value encountered in divide\n",
      "  updated_mean = (last_sum + new_sum) / updated_sample_count\n",
      "/opt/anaconda3/lib/python3.11/site-packages/sklearn/utils/extmath.py:1052: RuntimeWarning: invalid value encountered in divide\n",
      "  T = new_sum / new_sample_count\n",
      "/opt/anaconda3/lib/python3.11/site-packages/sklearn/utils/extmath.py:1072: RuntimeWarning: invalid value encountered in divide\n",
      "  new_unnormalized_variance -= correction**2 / new_sample_count\n"
     ]
    }
   ],
   "source": [
    "import pandas as pd\n",
    "from sklearn.preprocessing import StandardScaler\n",
    "\n",
    "# Handle missing values by filling only numeric columns with their mean\n",
    "numeric_cols = final_merged_data.select_dtypes(include=[float, int]).columns\n",
    "final_merged_data[numeric_cols] = final_merged_data[numeric_cols].fillna(final_merged_data[numeric_cols].mean())\n",
    "\n",
    "# Convert 'divyield' to numeric, coercing errors\n",
    "final_merged_data['divyield'] = pd.to_numeric(final_merged_data['divyield'], errors='coerce')\n",
    "\n",
    "# Drop non-numeric or irrelevant columns\n",
    "final_merged_data_cleaned = final_merged_data.drop(columns=['TICKER', 'CUSIP'])\n",
    "\n",
    "# Standardize the data\n",
    "scaler = StandardScaler()\n",
    "scaled_data = scaler.fit_transform(final_merged_data_cleaned.select_dtypes(include=[float, int]))\n",
    "\n",
    "# Convert scaled data back to a DataFrame\n",
    "scaled_data_df = pd.DataFrame(scaled_data, columns=final_merged_data_cleaned.select_dtypes(include=[float, int]).columns)\n",
    "\n",
    "# Check the structure of the prepared data\n",
    "print(scaled_data_df.info())"
   ]
  },
  {
   "cell_type": "code",
   "execution_count": 9,
   "id": "4a61f764-309f-4fa0-b420-ce21641b15df",
   "metadata": {},
   "outputs": [],
   "source": [
    "from sklearn.decomposition import PCA\n",
    "import matplotlib.pyplot as plt\n",
    "\n",
    "# Drop the divyield column as it has no non-null values\n",
    "final_data_for_pca = scaled_data_df.drop(columns=['divyield'])\n",
    "\n",
    "# Perform PCA\n",
    "pca = PCA()\n",
    "pca.fit(final_data_for_pca)\n",
    "\n",
    "# Explained variance\n",
    "explained_variance = pca.explained_variance_ratio_\n",
    "\n"
   ]
  },
  {
   "cell_type": "code",
   "execution_count": 10,
   "id": "cc964d3f-8090-4ed6-ab3c-596ad2b41c5d",
   "metadata": {},
   "outputs": [
    {
     "name": "stdout",
     "output_type": "stream",
     "text": [
      "             PC1       PC2       PC3       PC4       PC5       PC6       PC7  \\\n",
      "PERMNO -0.047867  0.467481  0.303142  0.210474 -0.086063  0.003986 -0.007222   \n",
      "SHRCD  -0.011519 -0.061004 -0.228383  0.281885  0.109151  0.460586 -0.110975   \n",
      "PERMCO -0.132580 -0.538322 -0.142919 -0.070609 -0.101631 -0.004362 -0.001903   \n",
      "HSICIG -0.035759 -0.206336 -0.341930 -0.376663 -0.073969 -0.229748  0.110134   \n",
      "PRC     0.000311  0.022683 -0.067120 -0.120978  0.828168 -0.232534 -0.180909   \n",
      "VOL     0.692063 -0.091742  0.000302  0.043153 -0.012447 -0.014947  0.007258   \n",
      "RET     0.049626 -0.005250  0.616661 -0.488811 -0.013439  0.029693  0.019319   \n",
      "SHROUT  0.697492 -0.055641 -0.048774  0.052884 -0.007886 -0.012603  0.000832   \n",
      "SPREAD  0.004536  0.037408  0.024182  0.027152  0.366081  0.135288  0.648308   \n",
      "CAPEI  -0.001294 -0.000951  0.010663  0.016079 -0.086459 -0.029779 -0.015065   \n",
      "bm     -0.004603  0.013426 -0.046244  0.070253 -0.318945 -0.327477  0.443383   \n",
      "evm    -0.000067  0.000009 -0.009860 -0.007057  0.062504 -0.035393  0.096567   \n",
      "pe_exi  0.040224  0.252876 -0.364849 -0.566143 -0.074380  0.100594  0.003596   \n",
      "dpr     0.013566  0.025606 -0.091120 -0.165563 -0.107354  0.606831 -0.132904   \n",
      "npm    -0.007807  0.027369  0.021964 -0.084012 -0.041194  0.014743 -0.152467   \n",
      "roa     0.089949  0.497663 -0.132042 -0.238182 -0.042852 -0.024694 -0.019116   \n",
      "roe     0.002980  0.020749 -0.023204  0.076417 -0.099404 -0.388620 -0.501874   \n",
      "roce    0.000264  0.001662  0.012935 -0.014292  0.024765  0.082948 -0.139323   \n",
      "ptb     0.028385 -0.343929  0.410457 -0.217733  0.020295  0.122172 -0.057656   \n",
      "\n",
      "             PC8       PC9      PC10      PC11      PC12      PC13      PC14  \\\n",
      "PERMNO -0.011058 -0.008140 -0.001118 -0.013284 -0.019497  0.035245  0.020586   \n",
      "SHRCD  -0.008190 -0.113631  0.049595 -0.138772 -0.096520 -0.057817  0.720720   \n",
      "PERMCO  0.007864  0.001120 -0.000859  0.006984  0.004298  0.004158 -0.008589   \n",
      "HSICIG -0.050261 -0.010533  0.000324 -0.006234  0.140854  0.081496  0.001644   \n",
      "PRC     0.071450 -0.125221  0.003301  0.027173 -0.338539 -0.219054 -0.058100   \n",
      "VOL    -0.000424 -0.005150  0.000942 -0.003854 -0.000178  0.003710 -0.011087   \n",
      "RET     0.021253  0.002410 -0.002312  0.006134 -0.038173 -0.069238  0.249634   \n",
      "SHROUT -0.003717 -0.008738  0.003751 -0.010720  0.004766  0.006382 -0.023041   \n",
      "SPREAD -0.092788  0.058071  0.001462  0.085265  0.576113 -0.242368  0.065187   \n",
      "CAPEI  -0.229703 -0.384019  0.705773  0.537809 -0.023967 -0.048920  0.014750   \n",
      "bm      0.284481 -0.186521 -0.044852 -0.082545 -0.388683 -0.524257  0.172392   \n",
      "evm     0.267701  0.604767  0.662727 -0.311023 -0.090321  0.058989  0.012769   \n",
      "pe_exi  0.005940 -0.003874 -0.004322  0.017396 -0.010735  0.073758  0.254566   \n",
      "dpr     0.061164  0.177623 -0.016838  0.153714 -0.115873 -0.551487 -0.402110   \n",
      "npm    -0.213987 -0.444046  0.232463 -0.726841  0.234623 -0.221796 -0.184433   \n",
      "roa    -0.008686 -0.002938  0.002278 -0.001721  0.013002  0.048589  0.081941   \n",
      "roe    -0.030841  0.286376 -0.025732  0.139601  0.426685 -0.472393  0.261959   \n",
      "roce    0.852665 -0.330082  0.056167  0.086245  0.333295  0.108223 -0.051704   \n",
      "ptb    -0.007393 -0.005267  0.002784 -0.018872 -0.027213 -0.021486  0.202102   \n",
      "\n",
      "            PC15      PC16      PC17      PC18      PC19  \n",
      "PERMNO  0.300715 -0.285908 -0.479127  0.479970 -0.031341  \n",
      "SHRCD   0.231292  0.064551  0.060038  0.009964 -0.000889  \n",
      "PERMCO -0.177899  0.140617 -0.031075  0.776268 -0.040833  \n",
      "HSICIG  0.741788 -0.210046 -0.027886 -0.051161 -0.006804  \n",
      "PRC     0.037337 -0.039412 -0.065625  0.113667 -0.002273  \n",
      "VOL     0.039439  0.024352 -0.077821  0.095210  0.702062  \n",
      "RET     0.205366  0.511767  0.029310  0.028585 -0.045181  \n",
      "SHROUT  0.007490 -0.011562 -0.032119  0.040385 -0.708058  \n",
      "SPREAD -0.071269 -0.019628 -0.014202  0.069405 -0.001604  \n",
      "CAPEI  -0.010497 -0.000163  0.003448 -0.011821  0.000262  \n",
      "bm     -0.051548 -0.055272  0.014913 -0.032395 -0.000553  \n",
      "evm     0.005037 -0.009205 -0.005823  0.008618 -0.000048  \n",
      "pe_exi -0.397556 -0.035196 -0.482528 -0.046896  0.009265  \n",
      "dpr     0.160084 -0.039961  0.000207  0.018137  0.001277  \n",
      "npm    -0.045067  0.016332 -0.023949  0.001954  0.007263  \n",
      "roa    -0.045627 -0.142764  0.713195  0.354895  0.029416  \n",
      "roe    -0.049948  0.000367 -0.029248 -0.009815  0.000746  \n",
      "roce    0.024523 -0.007819 -0.001781  0.000751  0.000257  \n",
      "ptb    -0.173889 -0.747624  0.097224 -0.072293  0.003270  \n"
     ]
    }
   ],
   "source": [
    "features = final_data_for_pca.columns\n",
    "\n",
    "# Get the factor loadings\n",
    "loadings = pd.DataFrame(pca.components_.T, columns=[f'PC{i+1}' for i in range(len(features))], index=features)\n",
    "\n",
    "# Display the factor loadings\n",
    "print(loadings)"
   ]
  },
  {
   "cell_type": "code",
   "execution_count": 11,
   "id": "d33c33ee-4356-4119-a7e5-6accb117fc1c",
   "metadata": {},
   "outputs": [
    {
     "data": {
      "image/png": "[encoded data removed]",
      "text/plain": [
       "<Figure size 1000x600 with 1 Axes>"
      ]
     },
     "metadata": {},
     "output_type": "display_data"
    }
   ],
   "source": [
    "# Scree plot\n",
    "plt.figure(figsize=(10, 6))\n",
    "plt.plot(range(1, len(explained_variance) + 1), explained_variance, marker='o', linestyle='--')\n",
    "plt.title('Scree Plot')\n",
    "plt.xlabel('Principal Component')\n",
    "plt.ylabel('Explained Variance Ratio')\n",
    "plt.savefig('/Users/rohanpadaya/Desktop/pankit_assign/Scree_Plot.png')\n",
    "plt.show()\n"
   ]
  },
  {
   "cell_type": "code",
   "execution_count": 12,
   "id": "b553e81a-77a5-4549-bebf-9dba040bce34",
   "metadata": {},
   "outputs": [
    {
     "name": "stdout",
     "output_type": "stream",
     "text": [
      "    Principal Component  Explained Variance Ratio\n",
      "0                     1                  0.092020\n",
      "1                     2                  0.077509\n",
      "2                     3                  0.055917\n",
      "3                     4                  0.054608\n",
      "4                     5                  0.052863\n",
      "5                     6                  0.052844\n",
      "6                     7                  0.052685\n",
      "7                     8                  0.052637\n",
      "8                     9                  0.052632\n",
      "9                    10                  0.052631\n",
      "10                   11                  0.052629\n",
      "11                   12                  0.052599\n",
      "12                   13                  0.052566\n",
      "13                   14                  0.052113\n",
      "14                   15                  0.049946\n",
      "15                   16                  0.046612\n",
      "16                   17                  0.043048\n",
      "17                   18                  0.039847\n",
      "18                   19                  0.014294\n"
     ]
    }
   ],
   "source": [
    "\n",
    "# Display the amount of variance explained by each principal component\n",
    "explained_variance_df = pd.DataFrame({\n",
    "    'Principal Component': range(1, len(explained_variance) + 1),\n",
    "    'Explained Variance Ratio': explained_variance\n",
    "})\n",
    "print(explained_variance_df)"
   ]
  },
  {
   "cell_type": "code",
   "execution_count": 13,
   "id": "ba388b85-0d56-497d-85f7-6c8146b50b08",
   "metadata": {},
   "outputs": [
    {
     "name": "stdout",
     "output_type": "stream",
     "text": [
      "PC1: SHROUT, VOL, PERMCO\n",
      "PC2: PERMCO, roa, PERMNO\n",
      "PC3: RET, ptb, pe_exi\n",
      "PC4: pe_exi, RET, HSICIG\n",
      "PC5: PRC, SPREAD, bm\n",
      "PC6: dpr, SHRCD, roe\n",
      "PC7: SPREAD, roe, bm\n",
      "PC8: roce, bm, evm\n",
      "PC9: evm, npm, CAPEI\n",
      "PC10: CAPEI, evm, npm\n",
      "PC11: npm, CAPEI, evm\n",
      "PC12: SPREAD, roe, bm\n",
      "PC13: dpr, bm, roe\n",
      "PC14: SHRCD, dpr, roe\n",
      "PC15: HSICIG, pe_exi, PERMNO\n",
      "PC16: ptb, RET, PERMNO\n",
      "PC17: roa, pe_exi, PERMNO\n",
      "PC18: PERMCO, PERMNO, roa\n",
      "PC19: SHROUT, VOL, RET\n"
     ]
    }
   ],
   "source": [
    "# Get the top 3 contributors to each principal component\n",
    "top_contributors = pd.DataFrame({\n",
    "    f'PC{i+1}': loadings.iloc[:, i].abs().nlargest(3).index\n",
    "    for i in range(loadings.shape[1])\n",
    "})\n",
    "\n",
    "# Display the top contributors for each principal component\n",
    "for col in top_contributors.columns:\n",
    "    print(f\"{col}: {', '.join(top_contributors[col])}\")"
   ]
  },
  {
   "cell_type": "code",
   "execution_count": 14,
   "id": "efee40d0-7631-462f-8061-8a0a9ccdf5d6",
   "metadata": {},
   "outputs": [
    {
     "name": "stdout",
     "output_type": "stream",
     "text": [
      "PC1: Size and Volume-related factors, dominated by SHROUT and VOL.\n",
      "PC2: Market Capitalization and Return on Assets, heavily influenced by PERMCO and roa.\n",
      "PC3: Valuation and Price Momentum, driven by RET and ptb.\n",
      "PC4: Price and Equity Ratios, influenced by pe_exi and RET.\n",
      "PC5: Price and Spread, dominated by PRC and SPREAD.\n"
     ]
    }
   ],
   "source": [
    "# Define potential interpretations for each principal component\n",
    "component_interpretations = {\n",
    "    'PC1': 'Size and Volume-related factors, dominated by SHROUT and VOL.',\n",
    "    'PC2': 'Market Capitalization and Return on Assets, heavily influenced by PERMCO and roa.',\n",
    "    'PC3': 'Valuation and Price Momentum, driven by RET and ptb.',\n",
    "    'PC4': 'Price and Equity Ratios, influenced by pe_exi and RET.',\n",
    "    'PC5': 'Price and Spread, dominated by PRC and SPREAD.',\n",
    "    # Add interpretations for the remaining PCs based on their top contributors\n",
    "}\n",
    "\n",
    "# Display the interpretations\n",
    "for pc, interpretation in component_interpretations.items():\n",
    "    print(f\"{pc}: {interpretation}\")"
   ]
  },
  {
   "cell_type": "code",
   "execution_count": 22,
   "id": "e4fd5d6f-9741-4b3a-8ea9-3d9aab056150",
   "metadata": {},
   "outputs": [
    {
     "name": "stdout",
     "output_type": "stream",
     "text": [
      "         Date     Price      Open      High       Low  Vol. Change %\n",
      "0  12/01/2022  3,839.50  4,087.14  4,100.96  3,764.49   NaN   -5.90%\n",
      "1  11/01/2022  4,080.11  3,901.79  4,080.11  3,698.15   NaN    5.38%\n",
      "2  10/01/2022  3,871.98  3,609.78  3,905.42  3,491.58   NaN    7.99%\n",
      "3  09/01/2022  3,585.62  3,936.73  4,119.28  3,584.13   NaN   -9.34%\n",
      "4  08/01/2022  3,955.00  4,112.38  4,325.28  3,954.53   NaN   -4.24%\n"
     ]
    }
   ],
   "source": [
    "# Load the S&P 500 data\n",
    "sp500_data = pd.read_csv('/Users/rohanpadaya/Downloads/S&P 500 Historical Data.csv')\n",
    "\n",
    "# Display the first few rows to ensure it loaded correctly\n",
    "print(sp500_data.head())"
   ]
  },
  {
   "cell_type": "code",
   "execution_count": 23,
   "id": "c7258b9c-0c9e-4010-b758-bf5050dbdfce",
   "metadata": {},
   "outputs": [
    {
     "name": "stdout",
     "output_type": "stream",
     "text": [
      "          date   Price      Open      High       Low  Vol. Change %  SP500_RET\n",
      "154 2010-02-01  1104.5  1,073.90  1,112.40  1,044.50   NaN    2.85%   0.028494\n",
      "153 2010-03-01  1169.4  1,105.40  1,180.70  1,105.40   NaN    5.88%   0.058760\n",
      "152 2010-04-01  1186.7  1,171.20  1,219.80  1,170.70   NaN    1.48%   0.014794\n",
      "151 2010-05-01  1089.4  1,188.60  1,205.10  1,040.80   NaN   -8.20%  -0.081992\n",
      "150 2010-06-01  1030.7  1,087.30  1,131.20  1,028.30   NaN   -5.39%  -0.053883\n"
     ]
    }
   ],
   "source": [
    "# Convert the 'Date' column to datetime format\n",
    "sp500_data['Date'] = pd.to_datetime(sp500_data['Date'], format='%m/%d/%Y')\n",
    "\n",
    "# Sort the data by date in ascending order\n",
    "sp500_data.sort_values(by='Date', inplace=True)\n",
    "\n",
    "# Rename the 'Date' column to 'date' to match with the existing dataset\n",
    "sp500_data.rename(columns={'Date': 'date'}, inplace=True)\n",
    "\n",
    "# Remove commas from 'Price' column and convert it to a numeric type\n",
    "sp500_data['Price'] = sp500_data['Price'].str.replace(',', '').astype(float)\n",
    "\n",
    "# Calculate the percentage change in 'Price' column to get returns\n",
    "sp500_data['SP500_RET'] = sp500_data['Price'].pct_change()\n",
    "\n",
    "# Drop the first row as it will have NaN for returns\n",
    "sp500_data.dropna(subset=['SP500_RET'], inplace=True)\n",
    "\n",
    "# Display the processed data\n",
    "print(sp500_data.head())"
   ]
  },
  {
   "cell_type": "code",
   "execution_count": 25,
   "id": "1160f4b9-f398-490b-8e3f-53fd8be2d210",
   "metadata": {},
   "outputs": [
    {
     "name": "stdout",
     "output_type": "stream",
     "text": [
      "<class 'pandas.core.frame.DataFrame'>\n",
      "RangeIndex: 393634 entries, 0 to 393633\n",
      "Data columns (total 21 columns):\n",
      " #   Column    Non-Null Count   Dtype         \n",
      "---  ------    --------------   -----         \n",
      " 0   PERMNO    393634 non-null  int64         \n",
      " 1   date      393634 non-null  datetime64[ns]\n",
      " 2   SHRCD     393634 non-null  float64       \n",
      " 3   PERMCO    393634 non-null  int64         \n",
      " 4   HSICIG    393634 non-null  float64       \n",
      " 5   PRC       393634 non-null  float64       \n",
      " 6   VOL       393634 non-null  float64       \n",
      " 7   RET       393634 non-null  float64       \n",
      " 8   SHROUT    393634 non-null  float64       \n",
      " 9   SPREAD    393634 non-null  float64       \n",
      " 10  CAPEI     393634 non-null  float64       \n",
      " 11  bm        393634 non-null  float64       \n",
      " 12  evm       393634 non-null  float64       \n",
      " 13  pe_exi    393634 non-null  float64       \n",
      " 14  dpr       393634 non-null  float64       \n",
      " 15  npm       393634 non-null  float64       \n",
      " 16  roa       393634 non-null  float64       \n",
      " 17  roe       393634 non-null  float64       \n",
      " 18  roce      393634 non-null  float64       \n",
      " 19  ptb       393634 non-null  float64       \n",
      " 20  divyield  0 non-null       float64       \n",
      "dtypes: datetime64[ns](1), float64(18), int64(2)\n",
      "memory usage: 63.1 MB\n"
     ]
    }
   ],
   "source": [
    "final_merged_data_cleaned.info()"
   ]
  },
  {
   "cell_type": "code",
   "execution_count": 27,
   "id": "f2dfb795-2e02-4921-abbb-f5dccc4cc288",
   "metadata": {},
   "outputs": [
    {
     "name": "stdout",
     "output_type": "stream",
     "text": [
      "Unique dates in final_merged_data_cleaned:\n",
      "<DatetimeArray>\n",
      "['2010-03-31 00:00:00', '2010-04-30 00:00:00', '2010-06-30 00:00:00',\n",
      " '2010-08-31 00:00:00', '2010-09-30 00:00:00', '2010-11-30 00:00:00',\n",
      " '2010-12-31 00:00:00', '2011-01-31 00:00:00', '2011-02-28 00:00:00',\n",
      " '2011-03-31 00:00:00']\n",
      "Length: 10, dtype: datetime64[ns]\n",
      "Unique dates in sp500_data:\n",
      "<DatetimeArray>\n",
      "['2010-02-01 00:00:00', '2010-03-01 00:00:00', '2010-04-01 00:00:00',\n",
      " '2010-05-01 00:00:00', '2010-06-01 00:00:00', '2010-07-01 00:00:00',\n",
      " '2010-08-01 00:00:00', '2010-09-01 00:00:00', '2010-10-01 00:00:00',\n",
      " '2010-11-01 00:00:00']\n",
      "Length: 10, dtype: datetime64[ns]\n",
      "Number of common dates: 0\n",
      "Common dates: []\n"
     ]
    }
   ],
   "source": [
    "# Step 1: Convert both date columns to datetime format if not already done\n",
    "final_merged_data_cleaned['date'] = pd.to_datetime(final_merged_data_cleaned['date'])\n",
    "sp500_data['date'] = pd.to_datetime(sp500_data['date'])\n",
    "\n",
    "# Step 2: Print unique dates from both datasets\n",
    "print(\"Unique dates in final_merged_data_cleaned:\")\n",
    "print(final_merged_data_cleaned['date'].unique()[:10])  # Display the first 10 unique dates\n",
    "\n",
    "print(\"Unique dates in sp500_data:\")\n",
    "print(sp500_data['date'].unique()[:10])  # Display the first 10 unique dates\n",
    "\n",
    "# Step 3: Check if there are any common dates between the two datasets\n",
    "common_dates = set(final_merged_data_cleaned['date']).intersection(set(sp500_data['date']))\n",
    "print(f\"Number of common dates: {len(common_dates)}\")\n",
    "print(f\"Common dates: {sorted(list(common_dates))[:10]}\")  # Show first 10 common dates\n",
    "\n",
    "# Step 4: Adjust date ranges if necessary\n",
    "# For example, if sp500_data dates are monthly and start at the beginning of the month,\n",
    "# you might need to shift dates in final_merged_data_cleaned to the beginning of the month."
   ]
  },
  {
   "cell_type": "code",
   "execution_count": 28,
   "id": "0439e1d3-6bfd-447a-85bb-7b58616c7792",
   "metadata": {},
   "outputs": [
    {
     "name": "stdout",
     "output_type": "stream",
     "text": [
      "<DatetimeArray>\n",
      "['2010-02-28 00:00:00', '2010-03-31 00:00:00', '2010-04-30 00:00:00',\n",
      " '2010-05-31 00:00:00', '2010-06-30 00:00:00', '2010-07-31 00:00:00',\n",
      " '2010-08-31 00:00:00', '2010-09-30 00:00:00', '2010-10-31 00:00:00',\n",
      " '2010-11-30 00:00:00',\n",
      " ...\n",
      " '2022-03-31 00:00:00', '2022-04-30 00:00:00', '2022-05-31 00:00:00',\n",
      " '2022-06-30 00:00:00', '2022-07-31 00:00:00', '2022-08-31 00:00:00',\n",
      " '2022-09-30 00:00:00', '2022-10-31 00:00:00', '2022-11-30 00:00:00',\n",
      " '2022-12-31 00:00:00']\n",
      "Length: 155, dtype: datetime64[ns]\n",
      "<class 'pandas.core.frame.DataFrame'>\n",
      "RangeIndex: 393634 entries, 0 to 393633\n",
      "Data columns (total 22 columns):\n",
      " #   Column     Non-Null Count   Dtype         \n",
      "---  ------     --------------   -----         \n",
      " 0   PERMNO     393634 non-null  int64         \n",
      " 1   date       393634 non-null  datetime64[ns]\n",
      " 2   SHRCD      393634 non-null  float64       \n",
      " 3   PERMCO     393634 non-null  int64         \n",
      " 4   HSICIG     393634 non-null  float64       \n",
      " 5   PRC        393634 non-null  float64       \n",
      " 6   VOL        393634 non-null  float64       \n",
      " 7   RET        393634 non-null  float64       \n",
      " 8   SHROUT     393634 non-null  float64       \n",
      " 9   SPREAD     393634 non-null  float64       \n",
      " 10  CAPEI      393634 non-null  float64       \n",
      " 11  bm         393634 non-null  float64       \n",
      " 12  evm        393634 non-null  float64       \n",
      " 13  pe_exi     393634 non-null  float64       \n",
      " 14  dpr        393634 non-null  float64       \n",
      " 15  npm        393634 non-null  float64       \n",
      " 16  roa        393634 non-null  float64       \n",
      " 17  roe        393634 non-null  float64       \n",
      " 18  roce       393634 non-null  float64       \n",
      " 19  ptb        393634 non-null  float64       \n",
      " 20  divyield   0 non-null       float64       \n",
      " 21  SP500_RET  393634 non-null  float64       \n",
      "dtypes: datetime64[ns](1), float64(19), int64(2)\n",
      "memory usage: 66.1 MB\n",
      "None\n",
      "   PERMNO       date  SHRCD  PERMCO      HSICIG      PRC      VOL       RET  \\\n",
      "0   10001 2010-03-31   11.0    7953  632.508081  10.1700   2283.0  0.020643   \n",
      "1   10002 2010-03-31   11.0    7954  632.508081   4.8500   5061.0  0.070640   \n",
      "2   10025 2010-03-31   11.0    7975  632.508081  26.0200  20299.0 -0.254441   \n",
      "3   10026 2010-03-31   11.0    7976  632.508081  43.4700  13844.0  0.020311   \n",
      "4   10028 2010-03-31   11.0    7978  632.508081   2.2501   5699.0  0.388951   \n",
      "\n",
      "    SHROUT    SPREAD  ...      evm  pe_exi    dpr    npm    roa    roe   roce  \\\n",
      "0   4361.0  0.902266  ...    6.496   6.437  0.349  0.095  0.146  0.206  0.145   \n",
      "1  17639.0  0.902266  ... -676.240  -0.687  0.134 -1.114  0.000 -0.676 -0.028   \n",
      "2   6850.0  0.902266  ...    7.689  13.208  0.000  0.019  0.148  0.183  0.124   \n",
      "3  18414.0  0.902266  ...    7.149  18.419  0.163  0.067  0.239  0.127  0.222   \n",
      "4   9834.0  0.902266  ...   19.250  45.002  0.000  0.006  0.048  0.038  0.039   \n",
      "\n",
      "     ptb  divyield  SP500_RET  \n",
      "0  1.235       NaN    0.05876  \n",
      "1  0.736       NaN    0.05876  \n",
      "2  2.204       NaN    0.05876  \n",
      "3  2.165       NaN    0.05876  \n",
      "4  1.779       NaN    0.05876  \n",
      "\n",
      "[5 rows x 22 columns]\n"
     ]
    }
   ],
   "source": [
    "# Shift the dates in sp500_data to the end of the month\n",
    "sp500_data['date'] = sp500_data['date'] + pd.offsets.MonthEnd(0)\n",
    "\n",
    "# Check the updated dates\n",
    "print(sp500_data['date'].unique())\n",
    "\n",
    "# Then, perform the merge again\n",
    "final_merged_data_with_sp500 = pd.merge(final_merged_data_cleaned, sp500_data[['date', 'SP500_RET']], on='date', how='inner')\n",
    "\n",
    "# Check the result\n",
    "print(final_merged_data_with_sp500.info())\n",
    "print(final_merged_data_with_sp500.head())"
   ]
  },
  {
   "cell_type": "code",
   "execution_count": 29,
   "id": "9363aa8e-a178-445e-b735-47578056434f",
   "metadata": {},
   "outputs": [
    {
     "name": "stdout",
     "output_type": "stream",
     "text": [
      "SP500_RET    1.000000\n",
      "RET          0.300355\n",
      "ptb          0.022589\n",
      "PERMNO       0.008616\n",
      "pe_exi       0.007773\n",
      "SPREAD       0.002516\n",
      "bm           0.002082\n",
      "SHRCD        0.001914\n",
      "npm          0.001345\n",
      "evm          0.000761\n",
      "dpr          0.000600\n",
      "CAPEI        0.000553\n",
      "PRC          0.000416\n",
      "HSICIG      -0.000294\n",
      "roe         -0.000406\n",
      "SHROUT      -0.000416\n",
      "roce        -0.000616\n",
      "roa         -0.001109\n",
      "VOL         -0.004513\n",
      "PERMCO      -0.009236\n",
      "date        -0.017823\n",
      "divyield          NaN\n",
      "Name: SP500_RET, dtype: float64\n"
     ]
    }
   ],
   "source": [
    "# Calculate the correlation between S&P 500 returns and the principal components\n",
    "correlation_matrix = final_merged_data_with_sp500.corr()\n",
    "\n",
    "# Display the correlation of S&P 500 returns with the principal components\n",
    "sp500_correlations = correlation_matrix['SP500_RET'].sort_values(ascending=False)\n",
    "print(sp500_correlations)"
   ]
  },
  {
   "cell_type": "code",
   "execution_count": 33,
   "id": "9b2c26c2-796d-4318-807a-df9bcff97eee",
   "metadata": {},
   "outputs": [
    {
     "name": "stdout",
     "output_type": "stream",
     "text": [
      "Training Data Regression Results:\n",
      "                            OLS Regression Results                            \n",
      "==============================================================================\n",
      "Dep. Variable:              SP500_RET   R-squared:                       0.092\n",
      "Model:                            OLS   Adj. R-squared:                  0.092\n",
      "Method:                 Least Squares   F-statistic:                     5293.\n",
      "Date:                Sat, 07 Sep 2024   Prob (F-statistic):               0.00\n",
      "Time:                        16:39:48   Log-Likelihood:             5.5438e+05\n",
      "No. Observations:              314907   AIC:                        -1.109e+06\n",
      "Df Residuals:                  314900   BIC:                        -1.109e+06\n",
      "Df Model:                           6                                         \n",
      "Covariance Type:            nonrobust                                         \n",
      "==============================================================================\n",
      "                 coef    std err          t      P>|t|      [0.025      0.975]\n",
      "------------------------------------------------------------------------------\n",
      "const          0.0075   7.42e-05    101.528      0.000       0.007       0.008\n",
      "RET            0.0719      0.000    175.841      0.000       0.071       0.073\n",
      "PC1        -8.072e-05   5.83e-05     -1.385      0.166      -0.000    3.35e-05\n",
      "PC2           -0.0013   6.11e-05    -21.806      0.000      -0.001      -0.001\n",
      "PC3           -0.0007   7.14e-05    -10.244      0.000      -0.001      -0.001\n",
      "PC4           -0.0003   7.22e-05     -4.142      0.000      -0.000      -0.000\n",
      "PC5           -0.0003   7.31e-05     -4.092      0.000      -0.000      -0.000\n",
      "==============================================================================\n",
      "Omnibus:                    47404.919   Durbin-Watson:                   1.999\n",
      "Prob(Omnibus):                  0.000   Jarque-Bera (JB):           357131.849\n",
      "Skew:                          -0.514   Prob(JB):                         0.00\n",
      "Kurtosis:                       8.115   Cond. No.                         7.02\n",
      "==============================================================================\n",
      "\n",
      "Notes:\n",
      "[1] Standard Errors assume that the covariance matrix of the errors is correctly specified.\n",
      "Test MSE: 0.0017176787613150649\n"
     ]
    }
   ],
   "source": [
    "from sklearn.model_selection import train_test_split\n",
    "import statsmodels.api as sm\n",
    "\n",
    "# Include the first 5 principal components in the regression\n",
    "pca_scores = pca.transform(scaled_data_df.drop(columns=['divyield']))\n",
    "pca_scores_df = pd.DataFrame(pca_scores[:, :5], columns=[f'PC{i+1}' for i in range(5)])\n",
    "\n",
    "# Add SP500_RET from the merged data\n",
    "pca_scores_df['SP500_RET'] = final_merged_data_with_sp500['SP500_RET']\n",
    "\n",
    "# Include RET as well\n",
    "pca_scores_df['RET'] = final_merged_data_with_sp500['RET']\n",
    "\n",
    "# Define the independent variables (adding RET and the first 5 principal components)\n",
    "X = sm.add_constant(pca_scores_df[['RET', 'PC1', 'PC2', 'PC3', 'PC4', 'PC5']])\n",
    "\n",
    "# Define the dependent variable\n",
    "y = pca_scores_df['SP500_RET']\n",
    "\n",
    "# Split the data into training and testing sets (80% training, 20% testing)\n",
    "X_train, X_test, y_train, y_test = train_test_split(X, y, test_size=0.2, random_state=42)\n",
    "\n",
    "# Fit the regression model on the training data\n",
    "model = sm.OLS(y_train, X_train).fit()\n",
    "\n",
    "# Print the regression results for the training data\n",
    "print(\"Training Data Regression Results:\")\n",
    "print(model.summary())\n",
    "\n"
   ]
  },
  {
   "cell_type": "code",
   "execution_count": 34,
   "id": "dc7087b9-5a2a-4897-a5c0-0b6c781f0842",
   "metadata": {},
   "outputs": [
    {
     "name": "stdout",
     "output_type": "stream",
     "text": [
      "Test MSE: 0.0017176787613150649\n",
      "Test RMSE: 0.04144488824107341\n",
      "Test MAE: 0.03139988934946282\n",
      "Test R²: 0.09311358974657025\n"
     ]
    }
   ],
   "source": [
    "from sklearn.metrics import mean_squared_error, mean_absolute_error, r2_score\n",
    "import numpy as np\n",
    "\n",
    "# Make predictions on the test data\n",
    "y_pred = model.predict(X_test)\n",
    "\n",
    "# Calculate the evaluation metrics\n",
    "mse = mean_squared_error(y_test, y_pred)\n",
    "rmse = np.sqrt(mse)\n",
    "mae = mean_absolute_error(y_test, y_pred)\n",
    "r_squared = r2_score(y_test, y_pred)\n",
    "\n",
    "# Display the results\n",
    "print(f\"Test MSE: {mse}\")\n",
    "print(f\"Test RMSE: {rmse}\")\n",
    "print(f\"Test MAE: {mae}\")\n",
    "print(f\"Test R²: {r_squared}\")"
   ]
  },
  {
   "cell_type": "code",
   "execution_count": 15,
   "id": "f1a9086c-041a-46e5-b4fb-f5fc071cfcf8",
   "metadata": {},
   "outputs": [],
   "source": [
    "# Convert necessary columns to numeric\n",
    "#industry_data['Market Cap'] = pd.to_numeric(industry_data['Market Cap'], errors='coerce')\n",
    "#industry_data['Volume'] = pd.to_numeric(industry_data['Volume'], errors='coerce')\n",
    "#industry_data['IPO Year'] = pd.to_numeric(industry_data['IPO Year'], errors='coerce')\n",
    "\n",
    "# Print the cleaned DataFrame information\n",
    "#print(industry_data.info())"
   ]
  },
  {
   "cell_type": "code",
   "execution_count": 16,
   "id": "05463db6-b68a-4647-8c82-21acab5b50bc",
   "metadata": {},
   "outputs": [],
   "source": [
    "# Check the date range in stock_data_part3\n",
    "#print(\"Date range in stock_data_part3:\")\n",
    "#print(stock_data_part3['date'].min(), stock_data_part3['date'].max())\n",
    "\n",
    "# Check the date range in fama_french_data_cleaned\n",
    "#print(\"\\nDate range in fama_french_data_cleaned:\")\n",
    "#print(fama_french_data_cleaned['date'].min(), fama_french_data_cleaned['date'].max())"
   ]
  },
  {
   "cell_type": "code",
   "execution_count": 17,
   "id": "ae81f4a3-e1cb-4ab5-9536-bdbbf4fb232f",
   "metadata": {},
   "outputs": [],
   "source": [
    "# Check unique date formats in both datasets\n",
    "#print(\"Unique dates in stock_data_part3:\")\n",
    "#print(stock_data_part3['date'].unique()[:10])\n",
    "\n",
    "#print(\"\\nUnique dates in fama_french_data_cleaned:\")\n",
    "#print(fama_french_filtered['date'].unique()[:10])\n",
    "\n",
    "# Identify common dates between the two datasets\n",
    "#common_dates = set(stock_data_part3['date']).intersection(set(fama_french_filtered['date']))\n",
    "#print(f\"\\nNumber of common dates: {len(common_dates)}\")\n",
    "#print(f\"Common dates: {list(common_dates)[:10]}\")  # Display first 10 common dates if any"
   ]
  }
 ],
 "metadata": {
  "kernelspec": {
   "display_name": "Python 3 (ipykernel)",
   "language": "python",
   "name": "python3"
  },
  "language_info": {
   "codemirror_mode": {
    "name": "ipython",
    "version": 3
   },
   "file_extension": ".py",
   "mimetype": "text/x-python",
   "name": "python",
   "nbconvert_exporter": "python",
   "pygments_lexer": "ipython3",
   "version": "3.11.7"
  }
 },
 "nbformat": 4,
 "nbformat_minor": 5
}
